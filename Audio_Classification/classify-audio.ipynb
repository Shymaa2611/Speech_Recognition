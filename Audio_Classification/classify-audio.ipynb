{
 "cells": [
  {
   "cell_type": "code",
   "execution_count": null,
   "id": "a1011a31",
   "metadata": {},
   "outputs": [],
   "source": [
    "# Importing library"
   ]
  },
  {
   "cell_type": "code",
   "execution_count": 387,
   "id": "886bd29d",
   "metadata": {},
   "outputs": [],
   "source": [
    "import os\n",
    "import librosa\n",
    "import numpy as np\n",
    "from tensorflow.keras.models import Sequential\n",
    "from tensorflow.keras.layers import Dense, BatchNormalization\n",
    "from tensorflow.keras.optimizers import Adam\n",
    "from sklearn.model_selection import train_test_split\n",
    "from sklearn.preprocessing import LabelEncoder"
   ]
  },
  {
   "cell_type": "code",
   "execution_count": 388,
   "id": "5953281d",
   "metadata": {},
   "outputs": [],
   "source": [
    "#Preprocessing"
   ]
  },
  {
   "cell_type": "code",
   "execution_count": 389,
   "id": "33b1363e",
   "metadata": {},
   "outputs": [],
   "source": [
    "def extract_mfcc(audio_path, max_pad_len=100):\n",
    "    audio, sr = librosa.load(audio_path, mono=True)\n",
    "    mfccs = librosa.feature.mfcc(y=audio, sr=sr, n_mfcc=13)\n",
    "    pad_width = max_pad_len - mfccs.shape[1]\n",
    "    \n",
    "    # Ensure pad_width is n\n",
    "    if pad_width < 0:\n",
    "        mfccs = mfccs[:, :max_pad_len]\n",
    "    else:\n",
    "        mfccs = np.pad(mfccs, pad_width=((0, 0), (0,pad_width)), mode='constant')\n",
    "    \n",
    "    return mfccs\n",
    "\n",
    "def load_data(data_dir):\n",
    "    labels = []\n",
    "    mfccs = []\n",
    "    max_pad_len = 0\n",
    "    \n",
    "    for label, folder in enumerate(os.listdir(data_dir)):\n",
    "        for filename in os.listdir(os.path.join(data_dir, folder)):\n",
    "            if filename.endswith(\".wav\") or filename.endswith(\".mp3\") :\n",
    "                audio_path = os.path.join(data_dir, folder, filename)\n",
    "                mfcc = extract_mfcc(audio_path)\n",
    "                mfccs.append(mfcc)\n",
    "                labels.append(label)\n",
    "                \n",
    "                if mfcc.shape[1] > max_pad_len:\n",
    "                    max_pad_len = mfcc.shape[1]\n",
    "    \n",
    "    return np.array(mfccs), np.array(labels)"
   ]
  },
  {
   "cell_type": "code",
   "execution_count": 390,
   "id": "b7bbc9cf",
   "metadata": {},
   "outputs": [],
   "source": [
    "data_dir = \"D:\\\\MachineCourse\\\\MachineLearnig\\\\NLP\\\\NLP-main\\\\testCode\\\\Deep_Learning\\\\Audio_Classification\\\\data\""
   ]
  },
  {
   "cell_type": "code",
   "execution_count": 391,
   "id": "9b2b9263",
   "metadata": {},
   "outputs": [],
   "source": [
    "#Load Data"
   ]
  },
  {
   "cell_type": "code",
   "execution_count": 392,
   "id": "87a442f8",
   "metadata": {},
   "outputs": [],
   "source": [
    "X, y = load_data(data_dir)"
   ]
  },
  {
   "cell_type": "code",
   "execution_count": 393,
   "id": "36a2fb42",
   "metadata": {},
   "outputs": [],
   "source": [
    "#Split and Encode data"
   ]
  },
  {
   "cell_type": "code",
   "execution_count": 394,
   "id": "29380771",
   "metadata": {},
   "outputs": [],
   "source": [
    "label_encoder = LabelEncoder()\n",
    "y = label_encoder.fit_transform(y)\n",
    "X_train, X_test, y_train, y_test = train_test_split(X, y, test_size=0.2, random_state=42)"
   ]
  },
  {
   "cell_type": "code",
   "execution_count": 395,
   "id": "41e91bfe",
   "metadata": {},
   "outputs": [],
   "source": [
    "#Display Audio"
   ]
  },
  {
   "cell_type": "code",
   "execution_count": 396,
   "id": "b346f6a0",
   "metadata": {},
   "outputs": [],
   "source": [
    "#Build Neaural Network"
   ]
  },
  {
   "cell_type": "code",
   "execution_count": 397,
   "id": "c4742f33",
   "metadata": {},
   "outputs": [],
   "source": [
    "from tensorflow.keras.models import Sequential\n",
    "from tensorflow.keras.layers import Conv2D, MaxPooling1D, Flatten, Dense, BatchNormalization\n",
    "\n",
    "model = Sequential()\n",
    "input_shape = (X.shape[1], X.shape[2], 1) \n",
    "model.add(Conv2D(32, (3, 3), activation='relu', input_shape=input_shape))\n",
    "model.add(BatchNormalization())\n",
    "model.add(MaxPooling2D((2, 2)))\n",
    "model.add(Conv2D(64, (3, 3), activation='relu'))\n",
    "model.add(BatchNormalization())\n",
    "model.add(MaxPooling2D((2, 2)))\n",
    "model.add(Flatten())\n",
    "model.add(Dense(64, activation='relu'))\n",
    "model.add(Dense(32, activation='relu'))\n",
    "model.add(Dense(units=np.max(y) + 1, activation='softmax'))\n"
   ]
  },
  {
   "cell_type": "code",
   "execution_count": 398,
   "id": "8da3ddc3",
   "metadata": {},
   "outputs": [],
   "source": [
    "#RUN Nuetwork"
   ]
  },
  {
   "cell_type": "code",
   "execution_count": 399,
   "id": "8b7b9c51",
   "metadata": {},
   "outputs": [],
   "source": [
    "model.compile(optimizer=Adam(learning_rate=0.001), loss='sparse_categorical_crossentropy', metrics=['accuracy'])"
   ]
  },
  {
   "cell_type": "code",
   "execution_count": 400,
   "id": "2f77611d",
   "metadata": {},
   "outputs": [],
   "source": [
    "#Trainig model"
   ]
  },
  {
   "cell_type": "code",
   "execution_count": 401,
   "id": "dcc03c5c",
   "metadata": {},
   "outputs": [
    {
     "name": "stdout",
     "output_type": "stream",
     "text": [
      "Epoch 1/20\n",
      "12/12 [==============================] - 3s 110ms/step - loss: 0.5897 - accuracy: 0.7898 - val_loss: 3.3767 - val_accuracy: 0.6209\n",
      "Epoch 2/20\n",
      "12/12 [==============================] - 1s 90ms/step - loss: 0.1555 - accuracy: 0.9533 - val_loss: 3.6266 - val_accuracy: 0.6209\n",
      "Epoch 3/20\n",
      "12/12 [==============================] - 1s 91ms/step - loss: 0.1056 - accuracy: 0.9670 - val_loss: 1.4043 - val_accuracy: 0.7418\n",
      "Epoch 4/20\n",
      "12/12 [==============================] - 1s 90ms/step - loss: 0.0541 - accuracy: 0.9821 - val_loss: 1.1887 - val_accuracy: 0.7143\n",
      "Epoch 5/20\n",
      "12/12 [==============================] - 1s 91ms/step - loss: 0.0256 - accuracy: 0.9904 - val_loss: 0.6865 - val_accuracy: 0.8242\n",
      "Epoch 6/20\n",
      "12/12 [==============================] - 1s 91ms/step - loss: 0.0187 - accuracy: 0.9973 - val_loss: 0.4154 - val_accuracy: 0.8297\n",
      "Epoch 7/20\n",
      "12/12 [==============================] - 1s 91ms/step - loss: 0.0111 - accuracy: 1.0000 - val_loss: 0.8971 - val_accuracy: 0.8022\n",
      "Epoch 8/20\n",
      "12/12 [==============================] - 1s 92ms/step - loss: 0.0084 - accuracy: 1.0000 - val_loss: 0.3362 - val_accuracy: 0.8791\n",
      "Epoch 9/20\n",
      "12/12 [==============================] - 1s 93ms/step - loss: 0.0037 - accuracy: 1.0000 - val_loss: 0.2290 - val_accuracy: 0.9341\n",
      "Epoch 10/20\n",
      "12/12 [==============================] - 1s 91ms/step - loss: 0.0025 - accuracy: 1.0000 - val_loss: 0.2319 - val_accuracy: 0.9231\n",
      "Epoch 11/20\n",
      "12/12 [==============================] - 1s 92ms/step - loss: 0.0021 - accuracy: 1.0000 - val_loss: 0.1980 - val_accuracy: 0.9396\n",
      "Epoch 12/20\n",
      "12/12 [==============================] - 1s 90ms/step - loss: 0.0013 - accuracy: 1.0000 - val_loss: 0.1674 - val_accuracy: 0.9505\n",
      "Epoch 13/20\n",
      "12/12 [==============================] - 1s 101ms/step - loss: 0.0012 - accuracy: 1.0000 - val_loss: 0.1481 - val_accuracy: 0.9670\n",
      "Epoch 14/20\n",
      "12/12 [==============================] - 1s 99ms/step - loss: 0.0013 - accuracy: 1.0000 - val_loss: 0.1255 - val_accuracy: 0.9780\n",
      "Epoch 15/20\n",
      "12/12 [==============================] - 1s 96ms/step - loss: 9.0620e-04 - accuracy: 1.0000 - val_loss: 0.1134 - val_accuracy: 0.9780\n",
      "Epoch 16/20\n",
      "12/12 [==============================] - 1s 106ms/step - loss: 7.6344e-04 - accuracy: 1.0000 - val_loss: 0.1004 - val_accuracy: 0.9835\n",
      "Epoch 17/20\n",
      "12/12 [==============================] - 1s 93ms/step - loss: 7.1812e-04 - accuracy: 1.0000 - val_loss: 0.0912 - val_accuracy: 0.9835\n",
      "Epoch 18/20\n",
      "12/12 [==============================] - 1s 99ms/step - loss: 5.4014e-04 - accuracy: 1.0000 - val_loss: 0.0822 - val_accuracy: 0.9890\n",
      "Epoch 19/20\n",
      "12/12 [==============================] - 1s 107ms/step - loss: 4.9248e-04 - accuracy: 1.0000 - val_loss: 0.0792 - val_accuracy: 0.9890\n",
      "Epoch 20/20\n",
      "12/12 [==============================] - 1s 96ms/step - loss: 5.5417e-04 - accuracy: 1.0000 - val_loss: 0.0796 - val_accuracy: 0.9835\n"
     ]
    }
   ],
   "source": [
    "history=model.fit(X_train, y_train, validation_data=(X_test, y_test), epochs=20, batch_size=64)"
   ]
  },
  {
   "cell_type": "code",
   "execution_count": 402,
   "id": "3178a227",
   "metadata": {},
   "outputs": [],
   "source": [
    "#Evaluting model"
   ]
  },
  {
   "cell_type": "code",
   "execution_count": 403,
   "id": "7ae20ca3",
   "metadata": {},
   "outputs": [
    {
     "name": "stdout",
     "output_type": "stream",
     "text": [
      "6/6 [==============================] - 0s 17ms/step - loss: 0.0796 - accuracy: 0.9835\n",
      "Test accuracy: 98.35%\n"
     ]
    }
   ],
   "source": [
    "loss, accuracy = model.evaluate(X_test, y_test)\n",
    "print(f\"Test accuracy: {accuracy*100:.2f}%\")"
   ]
  },
  {
   "cell_type": "code",
   "execution_count": 404,
   "id": "b6a13c6b",
   "metadata": {},
   "outputs": [
    {
     "data": {
      "image/png": "[encoded data removed]",
      "text/plain": [
       "<Figure size 640x480 with 1 Axes>"
      ]
     },
     "metadata": {},
     "output_type": "display_data"
    }
   ],
   "source": [
    "fig = plt.figure()\n",
    "plt.plot(history.history['accuracy'], color='teal', label='accuracy')\n",
    "plt.plot(history.history['val_accuracy'], color='orange', label='val_accuracy')\n",
    "fig.suptitle('Accuracy', fontsize=20)\n",
    "plt.legend(loc=\"upper left\")\n",
    "plt.show()"
   ]
  },
  {
   "cell_type": "code",
   "execution_count": 405,
   "id": "8d5fdd67",
   "metadata": {},
   "outputs": [
    {
     "data": {
      "image/png": "[encoded data removed]",
      "text/plain": [
       "<Figure size 640x480 with 1 Axes>"
      ]
     },
     "metadata": {},
     "output_type": "display_data"
    }
   ],
   "source": [
    "fig = plt.figure()\n",
    "plt.plot(history.history['loss'], color='teal', label='loss')\n",
    "plt.plot(history.history['val_loss'], color='orange', label='val_loss')\n",
    "fig.suptitle('Loss', fontsize=20)\n",
    "plt.legend(loc=\"upper left\")\n",
    "plt.show()"
   ]
  },
  {
   "cell_type": "code",
   "execution_count": 406,
   "id": "a122c18b",
   "metadata": {},
   "outputs": [
    {
     "name": "stdout",
     "output_type": "stream",
     "text": [
      "1/1 [==============================] - 0s 143ms/step\n",
      "The predicted class is: Forest Recordings\n"
     ]
    }
   ],
   "source": [
    "file_path = \"D:\\\\MachineCourse\\\\MachineLearnig\\\\NLP\\\\NLP-main\\\\testCode\\\\speech _Recognition\\\\Audio_Classification\\\\data\\\\Forest Recordings\\\\recording_94.mp3\"\n",
    "test_mfcc = extract_mfcc(file_path)\n",
    "test_mfcc = np.expand_dims(test_mfcc, axis=0) \n",
    "predicted_class = np.argmax(model.predict(test_mfcc))\n",
    "class_labels = ['Forest Recordings', 'Parsed_Capuchinbird_Clips', 'Parsed_Not_Capuchinbird_Clips']\n",
    "predicted_label = class_labels[predicted_class]\n",
    "\n",
    "print(f\"The predicted class is: {predicted_label}\")"
   ]
  },
  {
   "cell_type": "code",
   "execution_count": 407,
   "id": "e937e760",
   "metadata": {},
   "outputs": [
    {
     "name": "stdout",
     "output_type": "stream",
     "text": [
      "INFO:tensorflow:Assets written to: audio.model\\assets\n"
     ]
    },
    {
     "name": "stderr",
     "output_type": "stream",
     "text": [
      "INFO:tensorflow:Assets written to: audio.model\\assets\n"
     ]
    }
   ],
   "source": [
    "model.save('audio.model')"
   ]
  },
  {
   "cell_type": "code",
   "execution_count": null,
   "id": "13844896",
   "metadata": {},
   "outputs": [],
   "source": []
  }
 ],
 "metadata": {
  "kernelspec": {
   "display_name": "Python 3 (ipykernel)",
   "language": "python",
   "name": "python3"
  },
  "language_info": {
   "codemirror_mode": {
    "name": "ipython",
    "version": 3
   },
   "file_extension": ".py",
   "mimetype": "text/x-python",
   "name": "python",
   "nbconvert_exporter": "python",
   "pygments_lexer": "ipython3",
   "version": "3.9.18"
  }
 },
 "nbformat": 4,
 "nbformat_minor": 5
}
