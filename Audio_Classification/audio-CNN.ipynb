{
 "cells": [
  {
   "cell_type": "code",
   "execution_count": null,
   "id": "a1011a31",
   "metadata": {},
   "outputs": [],
   "source": [
    "# Importing library"
   ]
  },
  {
   "cell_type": "code",
   "execution_count": 408,
   "id": "886bd29d",
   "metadata": {},
   "outputs": [],
   "source": [
    "import os\n",
    "import librosa\n",
    "import numpy as np\n",
    "from tensorflow.keras.models import Sequential\n",
    "from tensorflow.keras.layers import Dense, BatchNormalization\n",
    "from tensorflow.keras.optimizers import Adam\n",
    "from sklearn.model_selection import train_test_split\n",
    "from sklearn.preprocessing import LabelEncoder"
   ]
  },
  {
   "cell_type": "code",
   "execution_count": 409,
   "id": "9739535c",
   "metadata": {},
   "outputs": [],
   "source": [
    "#Preprocessing"
   ]
  },
  {
   "cell_type": "code",
   "execution_count": 410,
   "id": "33b1363e",
   "metadata": {},
   "outputs": [],
   "source": [
    "def extract_mfcc(audio_path, max_pad_len=100):\n",
    "    audio, sr = librosa.load(audio_path, mono=True)\n",
    "    mfccs = librosa.feature.mfcc(y=audio, sr=sr, n_mfcc=13)\n",
    "    pad_width = max_pad_len - mfccs.shape[1]\n",
    "    \n",
    "    # Ensure pad_width is n\n",
    "    if pad_width < 0:\n",
    "        mfccs = mfccs[:, :max_pad_len]\n",
    "    else:\n",
    "        mfccs = np.pad(mfccs, pad_width=((0, 0), (0,pad_width)), mode='constant')\n",
    "    \n",
    "    return mfccs\n",
    "\n",
    "def load_data(data_dir):\n",
    "    labels = []\n",
    "    mfccs = []\n",
    "    max_pad_len = 0\n",
    "    \n",
    "    for label, folder in enumerate(os.listdir(data_dir)):\n",
    "        for filename in os.listdir(os.path.join(data_dir, folder)):\n",
    "            if filename.endswith(\".wav\") or filename.endswith(\".mp3\") :\n",
    "                audio_path = os.path.join(data_dir, folder, filename)\n",
    "                mfcc = extract_mfcc(audio_path)\n",
    "                mfccs.append(mfcc)\n",
    "                labels.append(label)\n",
    "                \n",
    "                if mfcc.shape[1] > max_pad_len:\n",
    "                    max_pad_len = mfcc.shape[1]\n",
    "    \n",
    "    return np.array(mfccs), np.array(labels)"
   ]
  },
  {
   "cell_type": "code",
   "execution_count": 411,
   "id": "6bcbfeea",
   "metadata": {},
   "outputs": [],
   "source": [
    "data_dir = \"D:\\\\MachineCourse\\\\MachineLearnig\\\\NLP\\\\NLP-main\\\\testCode\\\\Deep_Learning\\\\Audio_Classification\\\\data\""
   ]
  },
  {
   "cell_type": "code",
   "execution_count": 412,
   "id": "ae96127e",
   "metadata": {},
   "outputs": [],
   "source": [
    "#Load Data"
   ]
  },
  {
   "cell_type": "code",
   "execution_count": 413,
   "id": "58bfd386",
   "metadata": {},
   "outputs": [],
   "source": [
    "X, y = load_data(data_dir)"
   ]
  },
  {
   "cell_type": "code",
   "execution_count": 414,
   "id": "a4b79c73",
   "metadata": {},
   "outputs": [],
   "source": [
    "#Split and Encode data"
   ]
  },
  {
   "cell_type": "code",
   "execution_count": 415,
   "id": "fbbb6a49",
   "metadata": {},
   "outputs": [],
   "source": [
    "label_encoder = LabelEncoder()\n",
    "y = label_encoder.fit_transform(y)\n",
    "X_train, X_test, y_train, y_test = train_test_split(X, y, test_size=0.2, random_state=42)"
   ]
  },
  {
   "cell_type": "code",
   "execution_count": 416,
   "id": "3dcd7d8a",
   "metadata": {},
   "outputs": [],
   "source": [
    "#Display Audio"
   ]
  },
  {
   "cell_type": "code",
   "execution_count": 417,
   "id": "1d430c45",
   "metadata": {},
   "outputs": [],
   "source": [
    "#Build Neaural Network"
   ]
  },
  {
   "cell_type": "code",
   "execution_count": 418,
   "id": "cdca2ac0",
   "metadata": {},
   "outputs": [],
   "source": [
    "from tensorflow.keras.models import Sequential\n",
    "from tensorflow.keras.layers import Conv1D, MaxPooling1D, Flatten, Dense, BatchNormalization\n",
    "\n",
    "model = Sequential()\n",
    "input_shape = (X.shape[1], X.shape[2])  \n",
    "model.add(Conv1D(32, 3, activation='relu', input_shape=input_shape))\n",
    "model.add(BatchNormalization())\n",
    "model.add(MaxPooling1D(2))\n",
    "model.add(Conv1D(64, 3, activation='relu'))\n",
    "model.add(BatchNormalization())\n",
    "model.add(MaxPooling1D(2))\n",
    "model.add(Flatten())\n",
    "model.add(Dense(64, activation='relu'))\n",
    "model.add(Dense(32, activation='relu'))\n",
    "model.add(Dense(units=np.max(y) + 1, activation='softmax'))"
   ]
  },
  {
   "cell_type": "code",
   "execution_count": 419,
   "id": "712b64fc",
   "metadata": {},
   "outputs": [],
   "source": [
    "#RUN Nuetwork"
   ]
  },
  {
   "cell_type": "code",
   "execution_count": 420,
   "id": "fd87d941",
   "metadata": {},
   "outputs": [],
   "source": [
    "model.compile(optimizer=Adam(learning_rate=0.001), loss='sparse_categorical_crossentropy', metrics=['accuracy'])"
   ]
  },
  {
   "cell_type": "code",
   "execution_count": 421,
   "id": "e622bc3a",
   "metadata": {},
   "outputs": [],
   "source": [
    "#Trainig model"
   ]
  },
  {
   "cell_type": "code",
   "execution_count": 422,
   "id": "47dbb4a9",
   "metadata": {},
   "outputs": [
    {
     "name": "stdout",
     "output_type": "stream",
     "text": [
      "Epoch 1/20\n",
      "12/12 [==============================] - 3s 38ms/step - loss: 0.6018 - accuracy: 0.7445 - val_loss: 1.8619 - val_accuracy: 0.6319\n",
      "Epoch 2/20\n",
      "12/12 [==============================] - 0s 12ms/step - loss: 0.2976 - accuracy: 0.8929 - val_loss: 0.7392 - val_accuracy: 0.7363\n",
      "Epoch 3/20\n",
      "12/12 [==============================] - 0s 11ms/step - loss: 0.1739 - accuracy: 0.9560 - val_loss: 0.6435 - val_accuracy: 0.7582\n",
      "Epoch 4/20\n",
      "12/12 [==============================] - 0s 11ms/step - loss: 0.1073 - accuracy: 0.9739 - val_loss: 0.5659 - val_accuracy: 0.7857\n",
      "Epoch 5/20\n",
      "12/12 [==============================] - 0s 11ms/step - loss: 0.0770 - accuracy: 0.9780 - val_loss: 0.4428 - val_accuracy: 0.8242\n",
      "Epoch 6/20\n",
      "12/12 [==============================] - 0s 11ms/step - loss: 0.0577 - accuracy: 0.9849 - val_loss: 0.3961 - val_accuracy: 0.8352\n",
      "Epoch 7/20\n",
      "12/12 [==============================] - 0s 11ms/step - loss: 0.0418 - accuracy: 0.9945 - val_loss: 0.2954 - val_accuracy: 0.8791\n",
      "Epoch 8/20\n",
      "12/12 [==============================] - 0s 11ms/step - loss: 0.0241 - accuracy: 0.9986 - val_loss: 0.2216 - val_accuracy: 0.9121\n",
      "Epoch 9/20\n",
      "12/12 [==============================] - 0s 10ms/step - loss: 0.0186 - accuracy: 0.9986 - val_loss: 0.1905 - val_accuracy: 0.9396\n",
      "Epoch 10/20\n",
      "12/12 [==============================] - 0s 12ms/step - loss: 0.0130 - accuracy: 1.0000 - val_loss: 0.1578 - val_accuracy: 0.9341\n",
      "Epoch 11/20\n",
      "12/12 [==============================] - 0s 11ms/step - loss: 0.0115 - accuracy: 1.0000 - val_loss: 0.1425 - val_accuracy: 0.9505\n",
      "Epoch 12/20\n",
      "12/12 [==============================] - 0s 11ms/step - loss: 0.0071 - accuracy: 1.0000 - val_loss: 0.1312 - val_accuracy: 0.9505\n",
      "Epoch 13/20\n",
      "12/12 [==============================] - 0s 11ms/step - loss: 0.0059 - accuracy: 0.9986 - val_loss: 0.1044 - val_accuracy: 0.9725\n",
      "Epoch 14/20\n",
      "12/12 [==============================] - 0s 10ms/step - loss: 0.0044 - accuracy: 1.0000 - val_loss: 0.0890 - val_accuracy: 0.9780\n",
      "Epoch 15/20\n",
      "12/12 [==============================] - 0s 11ms/step - loss: 0.0034 - accuracy: 1.0000 - val_loss: 0.0855 - val_accuracy: 0.9725\n",
      "Epoch 16/20\n",
      "12/12 [==============================] - 0s 11ms/step - loss: 0.0025 - accuracy: 1.0000 - val_loss: 0.0831 - val_accuracy: 0.9670\n",
      "Epoch 17/20\n",
      "12/12 [==============================] - 0s 11ms/step - loss: 0.0021 - accuracy: 1.0000 - val_loss: 0.0854 - val_accuracy: 0.9725\n",
      "Epoch 18/20\n",
      "12/12 [==============================] - 0s 11ms/step - loss: 0.0017 - accuracy: 1.0000 - val_loss: 0.0865 - val_accuracy: 0.9725\n",
      "Epoch 19/20\n",
      "12/12 [==============================] - 0s 11ms/step - loss: 0.0020 - accuracy: 1.0000 - val_loss: 0.0892 - val_accuracy: 0.9725\n",
      "Epoch 20/20\n",
      "12/12 [==============================] - 0s 11ms/step - loss: 0.0016 - accuracy: 1.0000 - val_loss: 0.0900 - val_accuracy: 0.9725\n"
     ]
    }
   ],
   "source": [
    "history=model.fit(X_train, y_train, validation_data=(X_test, y_test), epochs=20, batch_size=64)"
   ]
  },
  {
   "cell_type": "code",
   "execution_count": 423,
   "id": "526e3fb3",
   "metadata": {},
   "outputs": [],
   "source": [
    "#Evaluting model"
   ]
  },
  {
   "cell_type": "code",
   "execution_count": 424,
   "id": "342eb7e2",
   "metadata": {},
   "outputs": [
    {
     "name": "stdout",
     "output_type": "stream",
     "text": [
      "6/6 [==============================] - 0s 4ms/step - loss: 0.0900 - accuracy: 0.9725\n",
      "Test accuracy: 97.25%\n"
     ]
    }
   ],
   "source": [
    "loss, accuracy = model.evaluate(X_test, y_test)\n",
    "print(f\"Test accuracy: {accuracy*100:.2f}%\")"
   ]
  },
  {
   "cell_type": "code",
   "execution_count": 425,
   "id": "47517697",
   "metadata": {},
   "outputs": [
    {
     "data": {
      "image/png": "[encoded data removed]",
      "text/plain": [
       "<Figure size 640x480 with 1 Axes>"
      ]
     },
     "metadata": {},
     "output_type": "display_data"
    }
   ],
   "source": [
    "fig = plt.figure()\n",
    "plt.plot(history.history['accuracy'], color='teal', label='accuracy')\n",
    "plt.plot(history.history['val_accuracy'], color='orange', label='val_accuracy')\n",
    "fig.suptitle('Accuracy', fontsize=20)\n",
    "plt.legend(loc=\"upper left\")\n",
    "plt.show()"
   ]
  },
  {
   "cell_type": "code",
   "execution_count": 426,
   "id": "6fcb7003",
   "metadata": {},
   "outputs": [
    {
     "data": {
      "image/png": "[encoded data removed]",
      "text/plain": [
       "<Figure size 640x480 with 1 Axes>"
      ]
     },
     "metadata": {},
     "output_type": "display_data"
    }
   ],
   "source": [
    "fig = plt.figure()\n",
    "plt.plot(history.history['loss'], color='teal', label='loss')\n",
    "plt.plot(history.history['val_loss'], color='orange', label='val_loss')\n",
    "fig.suptitle('Loss', fontsize=20)\n",
    "plt.legend(loc=\"upper left\")\n",
    "plt.show()"
   ]
  },
  {
   "cell_type": "code",
   "execution_count": 427,
   "id": "306e75ac",
   "metadata": {},
   "outputs": [
    {
     "name": "stdout",
     "output_type": "stream",
     "text": [
      "1/1 [==============================] - 0s 141ms/step\n",
      "The predicted class is: Forest Recordings\n"
     ]
    }
   ],
   "source": [
    "file_path = \"D:\\\\MachineCourse\\\\MachineLearnig\\\\NLP\\\\NLP-main\\\\testCode\\\\speech _Recognition\\\\Audio_Classification\\\\data\\\\Forest Recordings\\\\recording_94.mp3\"\n",
    "test_mfcc = extract_mfcc(file_path)\n",
    "test_mfcc = np.expand_dims(test_mfcc, axis=0) \n",
    "predicted_class = np.argmax(model.predict(test_mfcc))\n",
    "class_labels = ['Forest Recordings', 'Parsed_Capuchinbird_Clips', 'Parsed_Not_Capuchinbird_Clips']\n",
    "predicted_label = class_labels[predicted_class]\n",
    "\n",
    "print(f\"The predicted class is: {predicted_label}\")"
   ]
  },
  {
   "cell_type": "code",
   "execution_count": 428,
   "id": "94a3c084",
   "metadata": {},
   "outputs": [
    {
     "name": "stdout",
     "output_type": "stream",
     "text": [
      "INFO:tensorflow:Assets written to: audio.model\\assets\n"
     ]
    },
    {
     "name": "stderr",
     "output_type": "stream",
     "text": [
      "INFO:tensorflow:Assets written to: audio.model\\assets\n"
     ]
    }
   ],
   "source": [
    "model.save('audio.model')"
   ]
  },
  {
   "cell_type": "code",
   "execution_count": null,
   "id": "503668fa",
   "metadata": {},
   "outputs": [],
   "source": []
  }
 ],
 "metadata": {
  "kernelspec": {
   "display_name": "Python 3 (ipykernel)",
   "language": "python",
   "name": "python3"
  },
  "language_info": {
   "codemirror_mode": {
    "name": "ipython",
    "version": 3
   },
   "file_extension": ".py",
   "mimetype": "text/x-python",
   "name": "python",
   "nbconvert_exporter": "python",
   "pygments_lexer": "ipython3",
   "version": "3.9.18"
  }
 },
 "nbformat": 4,
 "nbformat_minor": 5
}
